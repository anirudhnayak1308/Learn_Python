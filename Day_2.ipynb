{
  "nbformat": 4,
  "nbformat_minor": 0,
  "metadata": {
    "colab": {
      "provenance": []
    },
    "kernelspec": {
      "name": "python3",
      "display_name": "Python 3"
    },
    "language_info": {
      "name": "python"
    }
  },
  "cells": [
    {
      "cell_type": "markdown",
      "source": [
        "#*Day 2*"
      ],
      "metadata": {
        "id": "DoptyLi3gw0w"
      }
    },
    {
      "cell_type": "code",
      "execution_count": 2,
      "metadata": {
        "colab": {
          "base_uri": "https://localhost:8080/",
          "height": 53
        },
        "id": "wJGIzd06faUr",
        "outputId": "a0357118-34de-48d2-b618-c0cc0c2da5b3"
      },
      "outputs": [
        {
          "output_type": "execute_result",
          "data": {
            "text/plain": [
              "'1. Introduction to datatypes\\n2. Importance of datatypes\\n3. Basic Datatypes\\n  a.Integer\\n  b.Float\\n  c.String \\n  d.Boolean\\n4. Advance Datatypes\\n  a.List\\n  b.Tuple\\n  c.Sets\\n  d.Dictionaries\\n5. Type Conversion'"
            ],
            "application/vnd.google.colaboratory.intrinsic+json": {
              "type": "string"
            }
          },
          "metadata": {},
          "execution_count": 2
        }
      ],
      "source": [
        "'''1. Introduction to datatypes\n",
        "2. Importance of datatypes\n",
        "3. Basic Datatypes\n",
        "  a.Integer\n",
        "  b.Float\n",
        "  c.String\n",
        "  d.Boolean\n",
        "4. Operators\n",
        "5. If, Elif, Else if,Nested if"
      ]
    },
    {
      "cell_type": "code",
      "source": [
        "##Interger\n",
        "age=26\n",
        "type(age)"
      ],
      "metadata": {
        "colab": {
          "base_uri": "https://localhost:8080/"
        },
        "id": "gf1p75F-gsXT",
        "outputId": "50626d99-0355-465f-b574-82b5910ca71f"
      },
      "execution_count": 3,
      "outputs": [
        {
          "output_type": "execute_result",
          "data": {
            "text/plain": [
              "int"
            ]
          },
          "metadata": {},
          "execution_count": 3
        }
      ]
    },
    {
      "cell_type": "code",
      "source": [
        "#Float\n",
        "height=5.7\n",
        "print(height)\n",
        "print(type(height))"
      ],
      "metadata": {
        "colab": {
          "base_uri": "https://localhost:8080/"
        },
        "id": "42b1FPsRhTa7",
        "outputId": "f98879b7-30dd-4efe-f0a3-77e6455b868e"
      },
      "execution_count": 5,
      "outputs": [
        {
          "output_type": "stream",
          "name": "stdout",
          "text": [
            "5.7\n",
            "<class 'float'>\n"
          ]
        }
      ]
    },
    {
      "cell_type": "code",
      "source": [
        "#Boolean\n",
        "is_true = False\n",
        "type(is_true)"
      ],
      "metadata": {
        "colab": {
          "base_uri": "https://localhost:8080/"
        },
        "id": "BzdOdnWthbxJ",
        "outputId": "afae16bc-2b17-4dc3-aa42-06c872485320"
      },
      "execution_count": 8,
      "outputs": [
        {
          "output_type": "execute_result",
          "data": {
            "text/plain": [
              "bool"
            ]
          },
          "metadata": {},
          "execution_count": 8
        }
      ]
    },
    {
      "cell_type": "markdown",
      "source": [
        "#*Operators*"
      ],
      "metadata": {
        "id": "2c-lSfcIjmZH"
      }
    },
    {
      "cell_type": "code",
      "source": [
        "#Arithmetic Operator\n",
        "\n",
        "a=10\n",
        "b=3\n",
        "\n",
        "add_result = a+b\n",
        "sub_result = a-b\n",
        "floor_div_result = a//b  #floor division\n",
        "mod_result = a%b #modulus\n",
        "exp_result = a**2 #exponentials\n",
        "\n",
        "print(add_result)\n",
        "print(sub_result)\n",
        "print(floor_div_result)\n",
        "print(mod_result)\n",
        "print(exp_result)"
      ],
      "metadata": {
        "colab": {
          "base_uri": "https://localhost:8080/"
        },
        "id": "02lAgOTZiCBm",
        "outputId": "95d21fbd-61b8-4826-8e5c-688262edbbec"
      },
      "execution_count": 9,
      "outputs": [
        {
          "output_type": "stream",
          "name": "stdout",
          "text": [
            "13\n",
            "7\n",
            "3\n",
            "1\n",
            "100\n"
          ]
        }
      ]
    },
    {
      "cell_type": "code",
      "source": [
        "#Comparision Operator (=, !=, >, >=, <, <=)\n",
        "\n",
        "a=100\n",
        "str1 = 'Ani'\n",
        "str2 = 'ani'\n",
        "\n",
        "print(str1==str2)\n",
        "\n",
        "print(str1 != str2)"
      ],
      "metadata": {
        "colab": {
          "base_uri": "https://localhost:8080/"
        },
        "id": "V_4-UIX4ko2X",
        "outputId": "d80eca93-5e61-4ea4-b001-4dbe5ae8aa75"
      },
      "execution_count": 12,
      "outputs": [
        {
          "output_type": "stream",
          "name": "stdout",
          "text": [
            "False\n",
            "True\n"
          ]
        }
      ]
    },
    {
      "cell_type": "code",
      "source": [
        "num1 = 23\n",
        "num2 = 34\n",
        "\n",
        "num1>=num2"
      ],
      "metadata": {
        "colab": {
          "base_uri": "https://localhost:8080/"
        },
        "id": "sXVqtY_klXcC",
        "outputId": "c05de06c-47e2-469e-f59e-47b7efe277ce"
      },
      "execution_count": 14,
      "outputs": [
        {
          "output_type": "execute_result",
          "data": {
            "text/plain": [
              "False"
            ]
          },
          "metadata": {},
          "execution_count": 14
        }
      ]
    },
    {
      "cell_type": "code",
      "source": [
        "#Logical Operators\n",
        "\n",
        "#And, Not, OR\n",
        "\n",
        "X = True\n",
        "Y= False\n",
        "\n",
        "res = X and Y\n",
        "print(res)\n"
      ],
      "metadata": {
        "colab": {
          "base_uri": "https://localhost:8080/"
        },
        "id": "Yos1W5Fyl12_",
        "outputId": "8b614887-2a65-49ef-d8f1-257f23e2dcdb"
      },
      "execution_count": 23,
      "outputs": [
        {
          "output_type": "stream",
          "name": "stdout",
          "text": [
            "False\n"
          ]
        }
      ]
    },
    {
      "cell_type": "code",
      "source": [
        "#OR - Either one of them is true then it is true\n",
        "\n",
        "X = True\n",
        "Y= False\n",
        "\n",
        "res = X or Y\n",
        "print(res)\n"
      ],
      "metadata": {
        "colab": {
          "base_uri": "https://localhost:8080/"
        },
        "id": "6qHl-nqkm3Pl",
        "outputId": "af615031-8bd7-4427-b046-be56fd75e4df"
      },
      "execution_count": 25,
      "outputs": [
        {
          "output_type": "stream",
          "name": "stdout",
          "text": [
            "True\n"
          ]
        }
      ]
    },
    {
      "cell_type": "code",
      "source": [
        "#Not\n",
        "\n",
        "y = True\n",
        "not y"
      ],
      "metadata": {
        "colab": {
          "base_uri": "https://localhost:8080/"
        },
        "id": "LUtMdK9Vnv-o",
        "outputId": "86f4c86f-813b-4dd8-a837-2617f14ba417"
      },
      "execution_count": 28,
      "outputs": [
        {
          "output_type": "execute_result",
          "data": {
            "text/plain": [
              "False"
            ]
          },
          "metadata": {},
          "execution_count": 28
        }
      ]
    },
    {
      "cell_type": "markdown",
      "source": [
        "# *IF ELSE ELIF*"
      ],
      "metadata": {
        "id": "P3HHnmeIo2wL"
      }
    },
    {
      "cell_type": "code",
      "source": [
        "#if statement - evaluates the condition and execute a block of code (within) if condition is true\n",
        "#else - Executes block of code if condition in if statement is false"
      ],
      "metadata": {
        "id": "qCJ5CXq4n_1i"
      },
      "execution_count": 29,
      "outputs": []
    },
    {
      "cell_type": "code",
      "source": [
        "age = 20\n",
        "if age>=21:\n",
        "  print('eligible')\n",
        "else:\n",
        "  print('SOrry! underage.....')"
      ],
      "metadata": {
        "colab": {
          "base_uri": "https://localhost:8080/"
        },
        "id": "NpNZCuoXpd77",
        "outputId": "f6fff8b1-c1e4-4771-da27-417b3c10229c"
      },
      "execution_count": 30,
      "outputs": [
        {
          "output_type": "stream",
          "name": "stdout",
          "text": [
            "SOrry! underage.....\n"
          ]
        }
      ]
    },
    {
      "cell_type": "code",
      "source": [
        "#ELIF - allows you to check for multiple conditions"
      ],
      "metadata": {
        "id": "V1NaazGCpuDy"
      },
      "execution_count": 31,
      "outputs": []
    },
    {
      "cell_type": "code",
      "source": [
        "age = int(input('Enter your age \\n'))\n",
        "if age<13:\n",
        "  print('You are a kid')\n",
        "elif age<21:\n",
        "  print('You are teenager')\n",
        "else:\n",
        "  print('you are an adult')"
      ],
      "metadata": {
        "colab": {
          "base_uri": "https://localhost:8080/"
        },
        "id": "hRh_mquFqDKQ",
        "outputId": "e1ee883b-53db-45a5-8db6-c28f48bad845"
      },
      "execution_count": 34,
      "outputs": [
        {
          "output_type": "stream",
          "name": "stdout",
          "text": [
            "Enter your age \n",
            "23\n",
            "you are an adult\n"
          ]
        }
      ]
    },
    {
      "cell_type": "code",
      "source": [
        "# Nested Conditional statement\n",
        "\n",
        "#You can place one or more if, elif or else statement inside another if, else,elif to create nested consitional statement\n",
        "\n",
        "## tell number is even or odd or negative\n",
        "\n",
        "num = int(input('Enter a number'))\n",
        "if num>0:\n",
        "  print('Number is positive')\n",
        "  if num%2==0:\n",
        "      print('Its a Even number')\n",
        "  else:\n",
        "    print('The number is ODD')\n",
        "\n",
        "else:\n",
        "  print('The number is ZERO or negative')"
      ],
      "metadata": {
        "colab": {
          "base_uri": "https://localhost:8080/"
        },
        "id": "CCBJgpEmq9-f",
        "outputId": "a2c47cb7-605a-4bf5-a3f2-b2101a026059"
      },
      "execution_count": 39,
      "outputs": [
        {
          "output_type": "stream",
          "name": "stdout",
          "text": [
            "Enter a number3\n",
            "Number is positive\n",
            "The number is ODD\n"
          ]
        }
      ]
    },
    {
      "cell_type": "code",
      "source": [
        "#Year is leap or not using nested if\n",
        "\n",
        "year = int(input('Enter the year'))\n",
        "if year%4==0:\n",
        "  if year%100==0:\n",
        "    if year%400==0:\n",
        "      print('This is a leap year')\n",
        "    else:\n",
        "      print('THIS is not a leap year')\n",
        "  else:\n",
        "    print(year,'is a leap year')\n",
        "else:\n",
        "  print(year,'is not a leap year')"
      ],
      "metadata": {
        "colab": {
          "base_uri": "https://localhost:8080/"
        },
        "id": "24rPfi7H86oA",
        "outputId": "0676207f-9f67-4f9f-ed69-80d5c825bfa3"
      },
      "execution_count": 42,
      "outputs": [
        {
          "output_type": "stream",
          "name": "stdout",
          "text": [
            "Enter the year2021\n",
            "2021 is not a leap year\n"
          ]
        }
      ]
    },
    {
      "cell_type": "code",
      "source": [],
      "metadata": {
        "id": "uHvznbEjGkT3"
      },
      "execution_count": null,
      "outputs": []
    }
  ]
}