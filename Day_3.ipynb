{
  "nbformat": 4,
  "nbformat_minor": 0,
  "metadata": {
    "colab": {
      "provenance": []
    },
    "kernelspec": {
      "name": "python3",
      "display_name": "Python 3"
    },
    "language_info": {
      "name": "python"
    }
  },
  "cells": [
    {
      "cell_type": "code",
      "execution_count": null,
      "metadata": {
        "id": "2HOQKfP6_D59"
      },
      "outputs": [],
      "source": []
    },
    {
      "cell_type": "markdown",
      "source": [
        "1. Introduction to loops\n",
        "2. For loops\n",
        "    Iterating over a range\n",
        "    iterating over a string\n",
        "3. While loop\n",
        "4. Loop control statements\n",
        "    Break\n",
        "    Continue\n",
        "    Pass\n",
        "5. Nested Loops"
      ],
      "metadata": {
        "id": "Cw2dg5scAqAl"
      }
    },
    {
      "cell_type": "code",
      "source": [
        "#For Loop\n",
        "\n",
        "range(5)"
      ],
      "metadata": {
        "colab": {
          "base_uri": "https://localhost:8080/"
        },
        "id": "RoeCizi7BOyI",
        "outputId": "3bd8c470-e138-4930-879d-4dd65aae2e6a"
      },
      "execution_count": 1,
      "outputs": [
        {
          "output_type": "execute_result",
          "data": {
            "text/plain": [
              "range(0, 5)"
            ]
          },
          "metadata": {},
          "execution_count": 1
        }
      ]
    },
    {
      "cell_type": "code",
      "source": [
        "range(1,5)"
      ],
      "metadata": {
        "colab": {
          "base_uri": "https://localhost:8080/"
        },
        "id": "4OyqXZXqBW-a",
        "outputId": "9b91692e-4956-4574-81e2-fade4c2b6ad0"
      },
      "execution_count": 2,
      "outputs": [
        {
          "output_type": "execute_result",
          "data": {
            "text/plain": [
              "range(1, 5)"
            ]
          },
          "metadata": {},
          "execution_count": 2
        }
      ]
    },
    {
      "cell_type": "code",
      "source": [
        "for i in range(5):\n",
        "  print(i)\n",
        "\n",
        "#last number will not include"
      ],
      "metadata": {
        "colab": {
          "base_uri": "https://localhost:8080/"
        },
        "id": "pKePT3TiBbzB",
        "outputId": "9f1ebbe4-868b-4549-96ac-1e1553d40c5f"
      },
      "execution_count": 3,
      "outputs": [
        {
          "output_type": "stream",
          "name": "stdout",
          "text": [
            "0\n",
            "1\n",
            "2\n",
            "3\n",
            "4\n"
          ]
        }
      ]
    },
    {
      "cell_type": "code",
      "source": [
        "for i in range(1,10,3):\n",
        "  print(i)"
      ],
      "metadata": {
        "colab": {
          "base_uri": "https://localhost:8080/"
        },
        "id": "MsOliVKkBhhp",
        "outputId": "7d6a8315-7347-44b1-d6c8-410c46f1b070"
      },
      "execution_count": 8,
      "outputs": [
        {
          "output_type": "stream",
          "name": "stdout",
          "text": [
            "1\n",
            "4\n",
            "7\n"
          ]
        }
      ]
    },
    {
      "cell_type": "code",
      "source": [
        "for i in range(1,10,3): #3 is step size\n",
        "  print(i)"
      ],
      "metadata": {
        "colab": {
          "base_uri": "https://localhost:8080/"
        },
        "id": "5UNY5UMfBrrW",
        "outputId": "713861c1-36d3-4936-ac90-50a1f8d0a80a"
      },
      "execution_count": 7,
      "outputs": [
        {
          "output_type": "stream",
          "name": "stdout",
          "text": [
            "1\n",
            "4\n",
            "7\n"
          ]
        }
      ]
    },
    {
      "cell_type": "code",
      "source": [
        "for i in range(10,1,-2):\n",
        "  print(i)"
      ],
      "metadata": {
        "colab": {
          "base_uri": "https://localhost:8080/"
        },
        "id": "DNhuzb2LB7Yp",
        "outputId": "26de5550-9b4d-4160-f408-296fdb7e046b"
      },
      "execution_count": 11,
      "outputs": [
        {
          "output_type": "stream",
          "name": "stdout",
          "text": [
            "10\n",
            "8\n",
            "6\n",
            "4\n",
            "2\n"
          ]
        }
      ]
    },
    {
      "cell_type": "markdown",
      "source": [
        "#Strings"
      ],
      "metadata": {
        "id": "Ifs4waqjC6bb"
      }
    },
    {
      "cell_type": "code",
      "source": [
        "str = 'Anirudh Nayak'\n",
        "for i in str:\n",
        "  print(i)"
      ],
      "metadata": {
        "colab": {
          "base_uri": "https://localhost:8080/"
        },
        "id": "L5bsMsncCX93",
        "outputId": "fb9221e9-28b9-4e75-c6d4-cf7ac455a380"
      },
      "execution_count": 12,
      "outputs": [
        {
          "output_type": "stream",
          "name": "stdout",
          "text": [
            "A\n",
            "n\n",
            "i\n",
            "r\n",
            "u\n",
            "d\n",
            "h\n",
            " \n",
            "N\n",
            "a\n",
            "y\n",
            "a\n",
            "k\n"
          ]
        }
      ]
    },
    {
      "cell_type": "code",
      "source": [
        "#While Loop - will continues to execute untill condition is true"
      ],
      "metadata": {
        "id": "AN2R4C6QDHyk"
      },
      "execution_count": 13,
      "outputs": []
    },
    {
      "cell_type": "code",
      "source": [
        "count = 0\n",
        "while count<5:\n",
        "  print(count)\n",
        "  count+=1. #count=count+1"
      ],
      "metadata": {
        "colab": {
          "base_uri": "https://localhost:8080/"
        },
        "id": "3UZTOlyvDmwy",
        "outputId": "700bf555-f3b9-4bf8-a5f5-d065f48fa652"
      },
      "execution_count": 17,
      "outputs": [
        {
          "output_type": "stream",
          "name": "stdout",
          "text": [
            "0\n",
            "1.0\n",
            "2.0\n",
            "3.0\n",
            "4.0\n"
          ]
        }
      ]
    },
    {
      "cell_type": "code",
      "source": [
        "count=0\n",
        "while count%2==0:\n",
        "  print(count)\n",
        "  count+=1\n",
        "\n",
        "#1%2==0 is not true so came out of loop"
      ],
      "metadata": {
        "colab": {
          "base_uri": "https://localhost:8080/"
        },
        "id": "V8lWNO23DsLz",
        "outputId": "9617ae3a-dea7-446b-be5d-75f73e7ee0d9"
      },
      "execution_count": 18,
      "outputs": [
        {
          "output_type": "stream",
          "name": "stdout",
          "text": [
            "0\n"
          ]
        }
      ]
    },
    {
      "cell_type": "code",
      "source": [
        "#Loop Control statement\n",
        "#Break statement exits loop permanently\n",
        "\n",
        "for i in range(10):\n",
        "  if i==5:\n",
        "    break\n",
        "  print(i)"
      ],
      "metadata": {
        "colab": {
          "base_uri": "https://localhost:8080/"
        },
        "id": "bbuuEkttEpej",
        "outputId": "8439bd65-ecae-4223-952b-68e9ca23760d"
      },
      "execution_count": 21,
      "outputs": [
        {
          "output_type": "stream",
          "name": "stdout",
          "text": [
            "0\n",
            "1\n",
            "2\n",
            "3\n",
            "4\n"
          ]
        }
      ]
    },
    {
      "cell_type": "code",
      "source": [
        "## Continue statement - skips current and continue with range"
      ],
      "metadata": {
        "id": "6m5o2_HSFexq"
      },
      "execution_count": 22,
      "outputs": []
    },
    {
      "cell_type": "code",
      "source": [
        "for i in range(15):\n",
        "  if i%2==0:\n",
        "    continue\n",
        "  print(i)"
      ],
      "metadata": {
        "colab": {
          "base_uri": "https://localhost:8080/"
        },
        "id": "TK7R_gUpFqsP",
        "outputId": "bf287633-35a6-458f-bc27-a1a95e39b9cf"
      },
      "execution_count": 31,
      "outputs": [
        {
          "output_type": "stream",
          "name": "stdout",
          "text": [
            "1\n",
            "3\n",
            "5\n",
            "7\n",
            "9\n",
            "11\n",
            "13\n"
          ]
        }
      ]
    },
    {
      "cell_type": "code",
      "source": [
        "##Pass statement is a null operator and does 'NOTHING'"
      ],
      "metadata": {
        "id": "C944r-2HGCLi"
      },
      "execution_count": 32,
      "outputs": []
    },
    {
      "cell_type": "code",
      "source": [
        "for i in range(5):\n",
        "  if i==3:\n",
        "    pass\n",
        "  print(i)"
      ],
      "metadata": {
        "colab": {
          "base_uri": "https://localhost:8080/"
        },
        "id": "So_5Mb1-G3_T",
        "outputId": "1bed7248-a1b5-4eb2-d8f3-6f39fab33533"
      },
      "execution_count": 34,
      "outputs": [
        {
          "output_type": "stream",
          "name": "stdout",
          "text": [
            "0\n",
            "1\n",
            "2\n",
            "3\n",
            "4\n"
          ]
        }
      ]
    },
    {
      "cell_type": "code",
      "source": [
        "#Nested Loops - Loop inside a loop\n",
        "\n",
        "for i in range(4):\n",
        "  for j in range(3):\n",
        "    print(f\"i:{i} and j:{j}\")"
      ],
      "metadata": {
        "colab": {
          "base_uri": "https://localhost:8080/"
        },
        "id": "nuOetzsYHKFS",
        "outputId": "ffa032f6-d561-4aaf-a925-03534394396a"
      },
      "execution_count": 39,
      "outputs": [
        {
          "output_type": "stream",
          "name": "stdout",
          "text": [
            "i:0 and j:0\n",
            "i:0 and j:1\n",
            "i:0 and j:2\n",
            "i:1 and j:0\n",
            "i:1 and j:1\n",
            "i:1 and j:2\n",
            "i:2 and j:0\n",
            "i:2 and j:1\n",
            "i:2 and j:2\n",
            "i:3 and j:0\n",
            "i:3 and j:1\n",
            "i:3 and j:2\n"
          ]
        }
      ]
    },
    {
      "cell_type": "code",
      "source": [
        "#Example\n",
        "\n",
        "#Calculate sum of first N natural numbers using while and for loop\n",
        "\n",
        "num = 10\n",
        "sum=0\n",
        "count=0\n",
        "while(count<=num):\n",
        "  sum+=count\n",
        "  count+=1\n",
        "print('Sum of first N natural number =',sum)"
      ],
      "metadata": {
        "colab": {
          "base_uri": "https://localhost:8080/"
        },
        "id": "0p6XKw2VIS6v",
        "outputId": "a1db4fb4-7134-4cc3-fe66-b03b88f00db5"
      },
      "execution_count": 40,
      "outputs": [
        {
          "output_type": "stream",
          "name": "stdout",
          "text": [
            "Sum of first N natural number = 55\n"
          ]
        }
      ]
    },
    {
      "cell_type": "markdown",
      "source": [
        "Loops are powerfull in python"
      ],
      "metadata": {
        "id": "jRxnQwkbK5eC"
      }
    },
    {
      "cell_type": "code",
      "source": [],
      "metadata": {
        "id": "eC_GStCVJKaJ"
      },
      "execution_count": null,
      "outputs": []
    }
  ]
}