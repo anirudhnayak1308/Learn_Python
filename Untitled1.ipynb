{
  "nbformat": 4,
  "nbformat_minor": 0,
  "metadata": {
    "colab": {
      "provenance": []
    },
    "kernelspec": {
      "name": "python3",
      "display_name": "Python 3"
    },
    "language_info": {
      "name": "python"
    }
  },
  "cells": [
    {
      "cell_type": "code",
      "execution_count": 26,
      "metadata": {
        "id": "i8cqXFjy9Q1w"
      },
      "outputs": [],
      "source": []
    },
    {
      "cell_type": "markdown",
      "source": [
        "#*Welcome to Google Colab!*"
      ],
      "metadata": {
        "id": "RAfG2qYVE82B"
      }
    },
    {
      "cell_type": "code",
      "source": [
        "#comments"
      ],
      "metadata": {
        "id": "lXhZil6C9S0N"
      },
      "execution_count": 2,
      "outputs": []
    },
    {
      "cell_type": "code",
      "source": [],
      "metadata": {
        "id": "RZPxaZrREmmY"
      },
      "execution_count": null,
      "outputs": []
    },
    {
      "cell_type": "markdown",
      "source": [
        "#*Syntax* - How we are able to arrange the words so that we can write a code"
      ],
      "metadata": {
        "id": "uWtvCV-cEp6I"
      }
    },
    {
      "cell_type": "code",
      "source": [
        "'''\n",
        "This is a\n",
        "multiline\n",
        "comment '''"
      ],
      "metadata": {
        "colab": {
          "base_uri": "https://localhost:8080/",
          "height": 35
        },
        "id": "Fj2YpLI59UZ5",
        "outputId": "e98abf9e-657f-44f4-fc91-d7a1b9fb85d4"
      },
      "execution_count": 3,
      "outputs": [
        {
          "output_type": "execute_result",
          "data": {
            "text/plain": [
              "'\\nThis is a \\nmultiline \\ncomment '"
            ],
            "application/vnd.google.colaboratory.intrinsic+json": {
              "type": "string"
            }
          },
          "metadata": {},
          "execution_count": 3
        }
      ]
    },
    {
      "cell_type": "code",
      "source": [
        "name ='Anirudh'\n",
        "Name ='Nayak'"
      ],
      "metadata": {
        "id": "Zib-B8kh9Z47"
      },
      "execution_count": 8,
      "outputs": []
    },
    {
      "cell_type": "code",
      "source": [
        "print(name)"
      ],
      "metadata": {
        "colab": {
          "base_uri": "https://localhost:8080/"
        },
        "id": "qI_PjUL79uC1",
        "outputId": "b97e3621-901d-4dce-e48c-287320988473"
      },
      "execution_count": 9,
      "outputs": [
        {
          "output_type": "stream",
          "name": "stdout",
          "text": [
            "Anirudh\n"
          ]
        }
      ]
    },
    {
      "cell_type": "markdown",
      "source": [
        "#*Indentation* - Use to define Hierarchy of code"
      ],
      "metadata": {
        "id": "uS9MRXgpFWgt"
      }
    },
    {
      "cell_type": "code",
      "source": [
        "#Indentation\n",
        "age=0\n",
        "q = int(input('Enter age of a person'))\n",
        "if q>=21:\n",
        "  print('He is allowed inside')\n",
        "else:\n",
        "  print('Sorry! He is underage \\n')"
      ],
      "metadata": {
        "colab": {
          "base_uri": "https://localhost:8080/"
        },
        "id": "MjMMI3969wfE",
        "outputId": "d93a33fe-56ae-430b-a6c1-84f215a9375c"
      },
      "execution_count": 19,
      "outputs": [
        {
          "output_type": "stream",
          "name": "stdout",
          "text": [
            "Enter age of a person21\n",
            "He is allowed inside\n"
          ]
        }
      ]
    },
    {
      "cell_type": "code",
      "source": [
        "#check datatype\n",
        "type(age)"
      ],
      "metadata": {
        "colab": {
          "base_uri": "https://localhost:8080/"
        },
        "id": "0NeVNqLd-yzU",
        "outputId": "f66c58e9-d59f-4b15-c8fa-76dabc82679a"
      },
      "execution_count": 20,
      "outputs": [
        {
          "output_type": "execute_result",
          "data": {
            "text/plain": [
              "int"
            ]
          },
          "metadata": {},
          "execution_count": 20
        }
      ]
    },
    {
      "cell_type": "code",
      "source": [
        "age = 'anirudh'\n",
        "print(type(age))"
      ],
      "metadata": {
        "colab": {
          "base_uri": "https://localhost:8080/"
        },
        "id": "_BcjBoC1Cy4T",
        "outputId": "20f19604-a002-4f2b-aa4f-bb51e12b5bd9"
      },
      "execution_count": 22,
      "outputs": [
        {
          "output_type": "stream",
          "name": "stdout",
          "text": [
            "<class 'str'>\n"
          ]
        }
      ]
    },
    {
      "cell_type": "code",
      "source": [
        "age=32\n",
        "if age>35:\n",
        "  print(age)"
      ],
      "metadata": {
        "id": "BYrImB61C8bc"
      },
      "execution_count": 24,
      "outputs": []
    },
    {
      "cell_type": "markdown",
      "source": [
        "#*Variables*"
      ],
      "metadata": {
        "id": "JDM5nYt0EWWD"
      }
    },
    {
      "cell_type": "code",
      "source": [
        "#DEclare and Assign variable\n",
        "\n",
        "age = 26\n",
        "height = 5.7\n",
        "name = \"anirudh\"\n",
        "is_student = True\n",
        "\n",
        "print(\"Hey \",name)"
      ],
      "metadata": {
        "colab": {
          "base_uri": "https://localhost:8080/"
        },
        "id": "N7NqtcIZDKgK",
        "outputId": "2bfbac16-ed5a-462a-cadd-4adc0a25fe3a"
      },
      "execution_count": 31,
      "outputs": [
        {
          "output_type": "stream",
          "name": "stdout",
          "text": [
            "Hey  anirudh\n"
          ]
        }
      ]
    },
    {
      "cell_type": "code",
      "source": [
        "#Naming Convention\n",
        "'''Variable name should be descriptive and must always start with letter or _\n",
        "It can contain letters,numbers and underscores in between\n",
        "Variable names are case sensitive'''\n",
        "\n",
        "\n",
        "first_name = 'anirudh'\n",
        "last_name='nayak'\n",
        "name = first_name+last_name\n",
        "name"
      ],
      "metadata": {
        "colab": {
          "base_uri": "https://localhost:8080/",
          "height": 35
        },
        "id": "TAjGbyx7GBZH",
        "outputId": "a132ef13-2bfa-494c-b0e7-5a6e49ba42c3"
      },
      "execution_count": 39,
      "outputs": [
        {
          "output_type": "execute_result",
          "data": {
            "text/plain": [
              "'anirudhnayak'"
            ],
            "application/vnd.google.colaboratory.intrinsic+json": {
              "type": "string"
            }
          },
          "metadata": {},
          "execution_count": 39
        }
      ]
    },
    {
      "cell_type": "code",
      "source": [
        "#Variable types\n",
        "##Python is dynamically typed, variable type is determined at runtime\n",
        "age = 26 #int\n",
        "weight= 70.5 #float"
      ],
      "metadata": {
        "id": "4n6HuonkHomc"
      },
      "execution_count": 41,
      "outputs": []
    },
    {
      "cell_type": "markdown",
      "source": [
        "#Type Conversion"
      ],
      "metadata": {
        "id": "_iLDPLPUI47o"
      }
    },
    {
      "cell_type": "code",
      "source": [
        "age = 26\n",
        "print(type(age))\n",
        "\n",
        "#type conversion\n",
        "\n",
        "age_str = str(age)\n",
        "print(age_str)\n",
        "print(type(age_str))"
      ],
      "metadata": {
        "colab": {
          "base_uri": "https://localhost:8080/"
        },
        "id": "M6Fymp8WIFoj",
        "outputId": "59731ddf-ef60-4b17-f710-af05f26c05bc"
      },
      "execution_count": 44,
      "outputs": [
        {
          "output_type": "stream",
          "name": "stdout",
          "text": [
            "<class 'int'>\n",
            "26\n",
            "<class 'str'>\n"
          ]
        }
      ]
    },
    {
      "cell_type": "code",
      "source": [
        "weight = 70.5\n",
        "type(weight)"
      ],
      "metadata": {
        "colab": {
          "base_uri": "https://localhost:8080/"
        },
        "id": "gkI6oWwKJAhZ",
        "outputId": "92053906-4a18-4140-bf2f-0ef67e8fedcf"
      },
      "execution_count": 45,
      "outputs": [
        {
          "output_type": "execute_result",
          "data": {
            "text/plain": [
              "float"
            ]
          },
          "metadata": {},
          "execution_count": 45
        }
      ]
    },
    {
      "cell_type": "code",
      "source": [
        "int(weight)"
      ],
      "metadata": {
        "colab": {
          "base_uri": "https://localhost:8080/"
        },
        "id": "f3JUo9ITKADQ",
        "outputId": "a6102d6d-12a9-439b-a79d-c76088fee905"
      },
      "execution_count": 46,
      "outputs": [
        {
          "output_type": "execute_result",
          "data": {
            "text/plain": [
              "70"
            ]
          },
          "metadata": {},
          "execution_count": 46
        }
      ]
    },
    {
      "cell_type": "code",
      "source": [
        "float(int(weight))"
      ],
      "metadata": {
        "colab": {
          "base_uri": "https://localhost:8080/"
        },
        "id": "klrFQW8kKC0b",
        "outputId": "ca2dcf74-79b7-4031-a924-0313df5568aa"
      },
      "execution_count": 47,
      "outputs": [
        {
          "output_type": "execute_result",
          "data": {
            "text/plain": [
              "70.0"
            ]
          },
          "metadata": {},
          "execution_count": 47
        }
      ]
    },
    {
      "cell_type": "code",
      "source": [
        "## Dynamic typing\n",
        "##python can change type of variable during runtime\n",
        "var = 10\n",
        "print(var, type(var))\n",
        "\n",
        "var = 'Anirudh'\n",
        "print(var, type(var))\n",
        "\n",
        "var = 10.33\n",
        "print(var, type(var))\n"
      ],
      "metadata": {
        "colab": {
          "base_uri": "https://localhost:8080/"
        },
        "id": "NauZbldrKFu7",
        "outputId": "0c5541c6-6465-47a1-9be0-958b8b288349"
      },
      "execution_count": 51,
      "outputs": [
        {
          "output_type": "stream",
          "name": "stdout",
          "text": [
            "10 <class 'int'>\n",
            "Anirudh <class 'str'>\n",
            "10.33 <class 'float'>\n"
          ]
        }
      ]
    },
    {
      "cell_type": "markdown",
      "source": [
        "#USER INPUT"
      ],
      "metadata": {
        "id": "N85kGxaZKzz9"
      }
    },
    {
      "cell_type": "code",
      "source": [
        "age = int(input('WHat is your age??'))\n",
        "if age >= 25:\n",
        "  print('You are good to go')\n",
        "else:\n",
        "  print('Nah!!')"
      ],
      "metadata": {
        "colab": {
          "base_uri": "https://localhost:8080/"
        },
        "id": "rPW-SURRKVlu",
        "outputId": "05cdf61d-3e59-4351-effe-d1e46b76d8cd"
      },
      "execution_count": 52,
      "outputs": [
        {
          "output_type": "stream",
          "name": "stdout",
          "text": [
            "WHat is your age??21\n",
            "Nah!!\n"
          ]
        }
      ]
    },
    {
      "cell_type": "markdown",
      "source": [
        "#*CALCULATOR*"
      ],
      "metadata": {
        "id": "UXS-9ItnLfaA"
      }
    },
    {
      "cell_type": "code",
      "source": [
        "num1 = float(input(\"Enter num1\"))\n",
        "num2 = float(input(\"Enter num2\"))\n",
        "\n",
        "sum = num1+num2\n",
        "sub = num1-num2\n",
        "multi = num1*num2\n",
        "divi = num1/num2\n",
        "\n",
        "print(\"Addition =\",sum)\n",
        "print(\"substraction =\",sub)\n",
        "print(\"Multiplication =\",sum)\n",
        "print(\"Division =\",sum)"
      ],
      "metadata": {
        "colab": {
          "base_uri": "https://localhost:8080/"
        },
        "id": "0b7-CXTKLO8j",
        "outputId": "2683ca04-4fcd-4a5b-a9cc-aaaf3b077a12"
      },
      "execution_count": 53,
      "outputs": [
        {
          "output_type": "stream",
          "name": "stdout",
          "text": [
            "Enter num123\n",
            "Enter num29747\n",
            "Addition = 9770.0\n",
            "substraction = -9724.0\n",
            "Multiplication = 9770.0\n",
            "Division = 9770.0\n"
          ]
        }
      ]
    },
    {
      "cell_type": "code",
      "source": [],
      "metadata": {
        "id": "3yF-nEDjMXZW"
      },
      "execution_count": null,
      "outputs": []
    }
  ]
}